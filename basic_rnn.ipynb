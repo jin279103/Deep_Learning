{
 "cells": [
  {
   "cell_type": "code",
   "execution_count": 5,
   "metadata": {},
   "outputs": [],
   "source": [
    "# 참고: https://hunkim.github.io/ml/\n",
    "#       https://gist.github.com/j-min/481749dcb853b4477c4f441bf7452195\n",
    "\n",
    "import tensorflow as tf\n",
    "import numpy as np "
   ]
  },
  {
   "cell_type": "code",
   "execution_count": 7,
   "metadata": {},
   "outputs": [
    {
     "name": "stdout",
     "output_type": "stream",
     "text": [
      "{'h': 0, 'e': 1, 'l': 2, 'o': 3}\n"
     ]
    }
   ],
   "source": [
    "char_rdic = ['h', 'e', 'l', 'o']  # id -> char\n",
    "char_dic = {w: i for i, w in enumerate(char_rdic)} # char -> id\n",
    "print(char_dic)"
   ]
  },
  {
   "cell_type": "code",
   "execution_count": 8,
   "metadata": {},
   "outputs": [
    {
     "name": "stdout",
     "output_type": "stream",
     "text": [
      "[0, 1, 2, 2, 3]\n"
     ]
    }
   ],
   "source": [
    "ground_truth = [char_dic[c] for c in 'hello']\n",
    "print(ground_truth)"
   ]
  },
  {
   "cell_type": "code",
   "execution_count": 17,
   "metadata": {},
   "outputs": [],
   "source": [
    "# Input layer\n",
    "x_data = np.array([[1, 0, 0, 0],  # h\n",
    "                  [0, 1, 0, 0],   # e\n",
    "                  [0, 0, 1, 0],   # l\n",
    "                  [0, 0, 1, 0]],  # l\n",
    "                 dtype='f')\n",
    "\n",
    "#x_data = tf.one_hot(ground_truth[:-1], len(char_dic), 1.0, 0.0, -1)\n",
    "#print(x_data)"
   ]
  },
  {
   "cell_type": "code",
   "execution_count": 38,
   "metadata": {},
   "outputs": [],
   "source": [
    "tf.reset_default_graph()\n",
    "\n",
    "# Configuration\n",
    "char_vocab_size = len(char_dic)\n",
    "rnn_size = char_vocab_size        #  hot coding (one of 4)\n",
    "time_step_size = 4                #' hell' -> predict 'ello'\n",
    "batch_size = 1                    # one sample\n",
    "\n",
    "# RNN model\n",
    "rnn_cell = tf.nn.rnn_cell.BasicRNNCell(num_units=rnn_size)\n",
    "state = tf.zeros([batch_size, rnn_cell.state_size])\n",
    "X_split = tf.split(x_data, time_step_size, 0)\n",
    "outputs, state = tf.contrib.rnn.static_rnn(rnn_cell, X_split, state)\n",
    "\n",
    "# logits: list of 2D Tensors of shape [batch_size x num_decoder_sysbols]\n",
    "# targets: list of 1D batch-sized int32 Tensors of the same length as logits.\n",
    "# weights: list of 1D batch-sized float-Tensors of the same length as logits.\n",
    "logits = tf.reshape(tf.concat(outputs, 1), [-1, rnn_size]) \n",
    "targets = tf.reshape(ground_truth[1:], [-1])                     \n",
    "weights = tf.ones([time_step_size * batch_size])  "
   ]
  },
  {
   "cell_type": "code",
   "execution_count": 43,
   "metadata": {},
   "outputs": [
    {
     "name": "stdout",
     "output_type": "stream",
     "text": [
      "[2 0 0 1] ['l', 'h', 'h', 'e']\n",
      "[2 0 0 1] ['l', 'h', 'h', 'e']\n",
      "[2 0 0 1] ['l', 'h', 'h', 'e']\n",
      "[2 0 0 1] ['l', 'h', 'h', 'e']\n",
      "[2 0 0 1] ['l', 'h', 'h', 'e']\n",
      "[2 0 0 1] ['l', 'h', 'h', 'e']\n",
      "[2 0 0 1] ['l', 'h', 'h', 'e']\n",
      "[2 0 0 1] ['l', 'h', 'h', 'e']\n",
      "[2 0 0 1] ['l', 'h', 'h', 'e']\n",
      "[2 0 0 3] ['l', 'h', 'h', 'o']\n",
      "[2 0 0 3] ['l', 'h', 'h', 'o']\n",
      "[2 0 0 3] ['l', 'h', 'h', 'o']\n",
      "[2 0 3 3] ['l', 'h', 'o', 'o']\n",
      "[2 0 3 3] ['l', 'h', 'o', 'o']\n",
      "[2 0 3 3] ['l', 'h', 'o', 'o']\n",
      "[2 1 3 3] ['l', 'e', 'o', 'o']\n",
      "[2 1 3 3] ['l', 'e', 'o', 'o']\n",
      "[2 1 3 3] ['l', 'e', 'o', 'o']\n",
      "[2 1 3 3] ['l', 'e', 'o', 'o']\n",
      "[2 1 3 3] ['l', 'e', 'o', 'o']\n",
      "[2 2 3 3] ['l', 'l', 'o', 'o']\n",
      "[2 2 3 3] ['l', 'l', 'o', 'o']\n",
      "[2 2 3 3] ['l', 'l', 'o', 'o']\n",
      "[2 2 3 3] ['l', 'l', 'o', 'o']\n",
      "[2 2 3 3] ['l', 'l', 'o', 'o']\n",
      "[2 2 3 3] ['l', 'l', 'o', 'o']\n",
      "[2 2 3 3] ['l', 'l', 'o', 'o']\n",
      "[2 2 3 3] ['l', 'l', 'o', 'o']\n",
      "[2 2 3 3] ['l', 'l', 'o', 'o']\n",
      "[2 2 3 3] ['l', 'l', 'o', 'o']\n",
      "[2 2 3 3] ['l', 'l', 'o', 'o']\n",
      "[2 2 2 3] ['l', 'l', 'l', 'o']\n",
      "[2 2 2 3] ['l', 'l', 'l', 'o']\n",
      "[2 2 2 3] ['l', 'l', 'l', 'o']\n",
      "[2 2 2 3] ['l', 'l', 'l', 'o']\n",
      "[2 2 2 3] ['l', 'l', 'l', 'o']\n",
      "[2 2 2 3] ['l', 'l', 'l', 'o']\n",
      "[2 2 2 3] ['l', 'l', 'l', 'o']\n",
      "[2 2 2 3] ['l', 'l', 'l', 'o']\n",
      "[2 2 2 3] ['l', 'l', 'l', 'o']\n",
      "[2 2 2 3] ['l', 'l', 'l', 'o']\n",
      "[2 2 2 3] ['l', 'l', 'l', 'o']\n",
      "[2 2 2 3] ['l', 'l', 'l', 'o']\n",
      "[1 2 2 3] ['e', 'l', 'l', 'o']\n",
      "[1 2 2 3] ['e', 'l', 'l', 'o']\n",
      "[1 2 2 3] ['e', 'l', 'l', 'o']\n",
      "[1 2 2 3] ['e', 'l', 'l', 'o']\n",
      "[1 2 2 3] ['e', 'l', 'l', 'o']\n",
      "[1 2 2 3] ['e', 'l', 'l', 'o']\n",
      "[1 2 2 3] ['e', 'l', 'l', 'o']\n",
      "[1 2 2 3] ['e', 'l', 'l', 'o']\n",
      "[1 2 2 3] ['e', 'l', 'l', 'o']\n",
      "[1 2 2 3] ['e', 'l', 'l', 'o']\n",
      "[1 2 2 3] ['e', 'l', 'l', 'o']\n",
      "[1 2 2 3] ['e', 'l', 'l', 'o']\n",
      "[1 2 2 3] ['e', 'l', 'l', 'o']\n",
      "[1 2 2 3] ['e', 'l', 'l', 'o']\n",
      "[1 2 2 3] ['e', 'l', 'l', 'o']\n",
      "[1 2 2 3] ['e', 'l', 'l', 'o']\n",
      "[1 2 2 3] ['e', 'l', 'l', 'o']\n",
      "[1 2 2 3] ['e', 'l', 'l', 'o']\n",
      "[1 2 2 3] ['e', 'l', 'l', 'o']\n",
      "[1 2 2 3] ['e', 'l', 'l', 'o']\n",
      "[1 2 2 3] ['e', 'l', 'l', 'o']\n",
      "[1 2 2 3] ['e', 'l', 'l', 'o']\n",
      "[1 2 2 3] ['e', 'l', 'l', 'o']\n",
      "[1 2 2 3] ['e', 'l', 'l', 'o']\n",
      "[1 2 2 3] ['e', 'l', 'l', 'o']\n",
      "[1 2 2 3] ['e', 'l', 'l', 'o']\n",
      "[1 2 2 3] ['e', 'l', 'l', 'o']\n",
      "[1 2 2 3] ['e', 'l', 'l', 'o']\n",
      "[1 2 2 3] ['e', 'l', 'l', 'o']\n",
      "[1 2 2 3] ['e', 'l', 'l', 'o']\n",
      "[1 2 2 3] ['e', 'l', 'l', 'o']\n",
      "[1 2 2 3] ['e', 'l', 'l', 'o']\n",
      "[1 2 2 3] ['e', 'l', 'l', 'o']\n",
      "[1 2 2 3] ['e', 'l', 'l', 'o']\n",
      "[1 2 2 3] ['e', 'l', 'l', 'o']\n",
      "[1 2 2 3] ['e', 'l', 'l', 'o']\n",
      "[1 2 2 3] ['e', 'l', 'l', 'o']\n",
      "[1 2 2 3] ['e', 'l', 'l', 'o']\n",
      "[1 2 2 3] ['e', 'l', 'l', 'o']\n",
      "[1 2 2 3] ['e', 'l', 'l', 'o']\n",
      "[1 2 2 3] ['e', 'l', 'l', 'o']\n",
      "[1 2 2 3] ['e', 'l', 'l', 'o']\n",
      "[1 2 2 3] ['e', 'l', 'l', 'o']\n",
      "[1 2 2 3] ['e', 'l', 'l', 'o']\n",
      "[1 2 2 3] ['e', 'l', 'l', 'o']\n",
      "[1 2 2 3] ['e', 'l', 'l', 'o']\n",
      "[1 2 2 3] ['e', 'l', 'l', 'o']\n",
      "[1 2 2 3] ['e', 'l', 'l', 'o']\n",
      "[1 2 2 3] ['e', 'l', 'l', 'o']\n",
      "[1 2 2 3] ['e', 'l', 'l', 'o']\n",
      "[1 2 2 3] ['e', 'l', 'l', 'o']\n",
      "[1 2 2 3] ['e', 'l', 'l', 'o']\n",
      "[1 2 2 3] ['e', 'l', 'l', 'o']\n",
      "[1 2 2 3] ['e', 'l', 'l', 'o']\n",
      "[1 2 2 3] ['e', 'l', 'l', 'o']\n",
      "[1 2 2 3] ['e', 'l', 'l', 'o']\n",
      "[1 2 2 3] ['e', 'l', 'l', 'o']\n"
     ]
    }
   ],
   "source": [
    "# Cost\n",
    "loss = tf.contrib.legacy_seq2seq.sequence_loss_by_example([logits], [targets], [weights])\n",
    "cost = tf.reduce_sum(loss) / batch_size\n",
    "train_op = tf.train.RMSPropOptimizer(0.01, 0.9).minimize(cost)\n",
    "\n",
    "# Train & Prediction\n",
    "# Launch the graph in a session\n",
    "with tf.Session() as sess:\n",
    "    # you need to initialize all variables\n",
    "    tf.initialize_all_variables().run()\n",
    "    \n",
    "    for i in range(100):\n",
    "        sess.run(train_op)\n",
    "        result = sess.run(tf.arg_max(logits, 1))\n",
    "        print(result, [char_rdic[t] for t in result])"
   ]
  },
  {
   "cell_type": "code",
   "execution_count": null,
   "metadata": {},
   "outputs": [],
   "source": []
  }
 ],
 "metadata": {
  "kernelspec": {
   "display_name": "test1",
   "language": "python",
   "name": "test1"
  },
  "language_info": {
   "codemirror_mode": {
    "name": "ipython",
    "version": 3
   },
   "file_extension": ".py",
   "mimetype": "text/x-python",
   "name": "python",
   "nbconvert_exporter": "python",
   "pygments_lexer": "ipython3",
   "version": "3.6.12"
  }
 },
 "nbformat": 4,
 "nbformat_minor": 4
}
