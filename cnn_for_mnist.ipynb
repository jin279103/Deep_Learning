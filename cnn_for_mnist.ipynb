{
 "cells": [
  {
   "cell_type": "code",
   "execution_count": 2,
   "metadata": {},
   "outputs": [],
   "source": [
    "import tensorflow as tf\n",
    "import numpy as np\n",
    "from tensorflow.examples.tutorials.mnist import input_data"
   ]
  },
  {
   "cell_type": "code",
   "execution_count": 3,
   "metadata": {},
   "outputs": [],
   "source": [
    "# Weight 초기화 함수\n",
    "def init_weights(shape):\n",
    "    return tf.Variable(tf.random_normal(shape, stddev=0.01))\n",
    "\n",
    "# CNN 모델 함수\n",
    "def cnn_model(X, W1, W2, W3, W4, WO, p_keep_conv, p_keep_hidden):\n",
    "    l1a = tf.nn.relu(tf.nn.conv2d(X, W1, strides=[1, 1, 1, 1], padding='SAME'))          # l1a shape(?, 28, 28, 32)\n",
    "    l1 = tf.nn.max_pool(l1a, ksize=[1, 2, 2, 1], strides=[1, 2, 2, 1], padding='SAME')  # l1 shape=(?, 14, 14, 32)\n",
    "    l1 = tf.nn.dropout(l1, p_keep_conv)\n",
    "    \n",
    "    l2a = tf.nn.relu(tf.nn.conv2d(l1, W2, strides=[1, 1, 1, 1], padding='SAME'))        # l2a shape=(? ,14, 14, 64)\n",
    "    l2 = tf.nn.max_pool(l2a, ksize=[1, 2, 2, 1], strides=[1, 2, 2, 1], padding='SAME')  # l2 shape=(?, 7, 7, 64)\n",
    "    l2 = tf.nn.dropout(l2, p_keep_conv)\n",
    "    \n",
    "    l3a = tf.nn.relu(tf.nn.conv2d(l2, W3, strides=[1, 1, 1, 1], padding='SAME'))        # l3a shape=(? ,7, 7, 128)\n",
    "    l3 = tf.nn.max_pool(l3a, ksize=[1, 2, 2, 1], strides=[1, 2, 2, 1], padding='SAME')  # l3 shape=(?, 4, 4, 128)\n",
    "    l3 = tf.nn.dropout(l3, p_keep_conv)\n",
    "    \n",
    "    l3 = tf.reshape(l3, [-1, W4.get_shape().as_list()[0]]) # reshpe to (?, 2048)\n",
    "    l3 = tf.nn.dropout(l3, p_keep_conv)\n",
    "    \n",
    "    l4 = tf.nn.relu(tf.matmul(l3, W4))\n",
    "    l4 = tf.nn.dropout(l4, p_keep_hidden)\n",
    "    \n",
    "    pyx = tf.matmul(l4, WO)\n",
    "    return pyx"
   ]
  },
  {
   "cell_type": "code",
   "execution_count": null,
   "metadata": {},
   "outputs": [],
   "source": [
    "#Check out https://www.tensorflow.org/get_started/mnist/beginners for more information about the mnist dataset\n",
    "mnist = input_data.read_data_sets(\"MNIST_data/\", one_hot=True)\n",
    "trX, trY, teX, teY = mnist.train.images, mnist.train.labels, mnist.test.images, mnist.test.labels\n",
    "trX = trX.reshape(-1, 28, 28, 1) # 28x28x1 input image\n",
    "teX = teX.reshape(-1, 28, 28, 1) # 28x28x1 input image\n",
    "\n",
    "# Input placeholder\n",
    "X = tf.placeholder(\"float\", [None, 28, 28, 1])\n",
    "Y = tf.placeholder(\"float\", [None, 10])\n",
    "\n",
    "# Filter\n",
    "W1 = init_weights([3, 3, 1, 32])       # 3x3x1 conv, 32 outputs\n",
    "W2 = init_weights([3, 3, 32, 64])      # 3x3x32 conv, 64 outputs\n",
    "W3 = init_weights([3, 3, 64, 128])     # 3x3x64 conv, 128 outputs\n",
    "W4 = init_weights([128 * 4 * 4, 625])  # Fully connected 128 * 4 * 4 inputs, 625 outputs \n",
    "WO = init_weights([625, 10])           # Fully connected 625 inputs, 10 outputs(labels 0 ~ 9)\n",
    "\n",
    "# Dropout parameter placeholder\n",
    "p_keep_conv = tf.placeholder(\"float\")\n",
    "p_keep_hidden = tf.placeholder(\"float\")\n",
    "py_x = cnn_model(X, W1, W2, W3, W4, WO, p_keep_conv, p_keep_hidden)\n",
    "\n",
    "# Define cost & optimizer\n",
    "cost = tf.reduce_mean(tf.nn.softmax_cross_entropy_with_logits(logits=py_x, labels=Y))\n",
    "train = tf.train.RMSPropOptimizer(0.001, 0.9).minimize(cost)\n",
    "predict = tf.argmax(py_x, 1)\n",
    "\n",
    "# Parameters\n",
    "batch_size = 128\n",
    "test_size = 256\n",
    "\n",
    "with tf.Session() as sess:\n",
    "    # Initialize TensorFlow Variables\n",
    "    sess.run(tf.global_variables_initializer())\n",
    "    \n",
    "    for step in range(100):\n",
    "        training_batch = zip(range(0, len(trX), batch_size), range(batch_size, len(trX)+1, batch_size))\n",
    "        \n",
    "        for start, end in training_batch:\n",
    "            sess.run(train, feed_dict={X: trX[start:end], Y: trY[start:end], p_keep_conv: 0.8, p_keep_hidden: 0.5})\n",
    "            \n",
    "        test_indices = np.arange(len(teX)) # Get A test Batch\n",
    "        np.random.shuffle(test_indices)\n",
    "        test_indices = test_indices[0:test_size]\n",
    "            \n",
    "        print(step, np.mean(np.argmax(teY[test_indices], axis=1) ==\n",
    "                                         sess.run(predict, feed_dict={X: teX[test_indices],\n",
    "                                                                    Y: teY[test_indices],\n",
    "                                                                    p_keep_conv: 1.0,\n",
    "                                                                    p_keep_hidden: 1.0})))"
   ]
  }
 ],
 "metadata": {
  "kernelspec": {
   "display_name": "test1",
   "language": "python",
   "name": "test1"
  },
  "language_info": {
   "codemirror_mode": {
    "name": "ipython",
    "version": 3
   },
   "file_extension": ".py",
   "mimetype": "text/x-python",
   "name": "python",
   "nbconvert_exporter": "python",
   "pygments_lexer": "ipython3",
   "version": "3.6.12"
  }
 },
 "nbformat": 4,
 "nbformat_minor": 4
}
